{
 "cells": [
  {
   "cell_type": "code",
   "execution_count": 1,
   "metadata": {},
   "outputs": [
    {
     "ename": "ModuleNotFoundError",
     "evalue": "No module named 'torch'",
     "output_type": "error",
     "traceback": [
      "\u001b[0;31m---------------------------------------------------------------------------\u001b[0m",
      "\u001b[0;31mModuleNotFoundError\u001b[0m                       Traceback (most recent call last)",
      "Cell \u001b[0;32mIn[1], line 1\u001b[0m\n\u001b[0;32m----> 1\u001b[0m \u001b[39mimport\u001b[39;00m \u001b[39mtorch\u001b[39;00m\n\u001b[1;32m      2\u001b[0m \u001b[39mimport\u001b[39;00m \u001b[39mtorch\u001b[39;00m\u001b[39m.\u001b[39;00m\u001b[39moptim\u001b[39;00m \u001b[39mas\u001b[39;00m \u001b[39moptim\u001b[39;00m\n\u001b[1;32m      4\u001b[0m \u001b[39m# Define the function to be minimized\u001b[39;00m\n",
      "\u001b[0;31mModuleNotFoundError\u001b[0m: No module named 'torch'"
     ]
    }
   ],
   "source": [
    "import torch\n",
    "import torch.optim as optim\n",
    "\n",
    "# Define the function to be minimized\n",
    "def func(x):\n",
    "    return (x - 2)**2\n",
    "\n",
    "# Initialize the variable to optimize (parameter)\n",
    "x = torch.tensor(0.1, requires_grad=True)\n",
    "\n",
    "# Define the optimizer (using stochastic gradient descent)\n",
    "optimizer = optim.SGD([x], lr=0.1)  # lr is the learning rate\n",
    "\n",
    "# Perform optimization\n",
    "for _ in range(50):  # Number of optimization steps\n",
    "    optimizer.zero_grad()  # Zero out gradients\n",
    "    loss = func(x)  # Compute the loss\n",
    "    loss.backward()  # Compute gradients\n",
    "    optimizer.step()  # Update the parameter using the gradients\n",
    "\n",
    "# The optimized value of x is the minimum point of the function\n",
    "min_x = x.item()\n",
    "min_value = func(x).item()\n",
    "\n",
    "print(\"Optimized x:\", min_x)\n",
    "print(\"Minimum value of the function:\", min_value)"
   ]
  },
  {
   "cell_type": "code",
   "execution_count": null,
   "metadata": {},
   "outputs": [],
   "source": []
  }
 ],
 "metadata": {
  "kernelspec": {
   "display_name": "statsenv",
   "language": "python",
   "name": "python3"
  },
  "language_info": {
   "codemirror_mode": {
    "name": "ipython",
    "version": 3
   },
   "file_extension": ".py",
   "mimetype": "text/x-python",
   "name": "python",
   "nbconvert_exporter": "python",
   "pygments_lexer": "ipython3",
   "version": "3.11.0"
  },
  "orig_nbformat": 4
 },
 "nbformat": 4,
 "nbformat_minor": 2
}
